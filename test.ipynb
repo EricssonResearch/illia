{
 "cells": [
  {
   "cell_type": "code",
   "execution_count": 2,
   "id": "43e23bae",
   "metadata": {},
   "outputs": [
    {
     "name": "stderr",
     "output_type": "stream",
     "text": [
      "2025-05-26 18:58:16.074552: I tensorflow/core/util/port.cc:153] oneDNN custom operations are on. You may see slightly different numerical results due to floating-point round-off errors from different computation orders. To turn them off, set the environment variable `TF_ENABLE_ONEDNN_OPTS=0`.\n",
      "2025-05-26 18:58:16.085301: E external/local_xla/xla/stream_executor/cuda/cuda_fft.cc:467] Unable to register cuFFT factory: Attempting to register factory for plugin cuFFT when one has already been registered\n",
      "WARNING: All log messages before absl::InitializeLog() is called are written to STDERR\n",
      "E0000 00:00:1748278696.098649   23272 cuda_dnn.cc:8579] Unable to register cuDNN factory: Attempting to register factory for plugin cuDNN when one has already been registered\n",
      "E0000 00:00:1748278696.102859   23272 cuda_blas.cc:1407] Unable to register cuBLAS factory: Attempting to register factory for plugin cuBLAS when one has already been registered\n",
      "W0000 00:00:1748278696.111990   23272 computation_placer.cc:177] computation placer already registered. Please check linkage and avoid linking the same target more than once.\n",
      "W0000 00:00:1748278696.112013   23272 computation_placer.cc:177] computation placer already registered. Please check linkage and avoid linking the same target more than once.\n",
      "W0000 00:00:1748278696.112014   23272 computation_placer.cc:177] computation placer already registered. Please check linkage and avoid linking the same target more than once.\n",
      "W0000 00:00:1748278696.112016   23272 computation_placer.cc:177] computation placer already registered. Please check linkage and avoid linking the same target more than once.\n",
      "2025-05-26 18:58:16.115708: I tensorflow/core/platform/cpu_feature_guard.cc:210] This TensorFlow binary is optimized to use available CPU instructions in performance-critical operations.\n",
      "To enable the following instructions: AVX2 AVX512F AVX512_VNNI FMA, in other operations, rebuild TensorFlow with the appropriate compiler flags.\n"
     ]
    },
    {
     "name": "stdout",
     "output_type": "stream",
     "text": [
      "Illia version: 0.0.1\n",
      "Illia backend: tf\n",
      "Illia available backends: ['pyg', 'tf', 'jax', 'torch']\n",
      "(1, 12, 12, 3)\n"
     ]
    },
    {
     "name": "stderr",
     "output_type": "stream",
     "text": [
      "2025-05-26 18:58:17.680862: E external/local_xla/xla/stream_executor/cuda/cuda_platform.cc:51] failed call to cuInit: INTERNAL: CUDA error: Failed call to cuInit: UNKNOWN ERROR (303)\n"
     ]
    },
    {
     "data": {
      "text/plain": [
       "TensorShape([1, 10, 10, 64])"
      ]
     },
     "execution_count": 2,
     "metadata": {},
     "output_type": "execute_result"
    }
   ],
   "source": [
    "import os\n",
    "\n",
    "os.environ[\"ILLIA_BACKEND\"] = \"tf\"\n",
    "import illia\n",
    "\n",
    "print(f\"Illia version: {illia.__version__}\")\n",
    "print(f\"Illia backend: {illia.__get_backend__}\")\n",
    "print(f\"Illia available backends: {illia.__get_available_backends__}\")\n",
    "from illia.nn import Conv2D\n",
    "\n",
    "conv_layer = Conv2D(\n",
    "    input_channels=3,\n",
    "    output_channels=64,\n",
    "    kernel_size=3,\n",
    ")\n",
    "type(conv_layer)\n",
    "\n",
    "if illia.BackendManager.get_backend() == \"tf\":\n",
    "    import tensorflow as tf\n",
    "\n",
    "    tensor = tf.random.uniform((1, 12, 12, 3))\n",
    "    print(tensor.shape)\n",
    "elif illia.BackendManager.get_backend() == \"torch\":\n",
    "    import torch\n",
    "\n",
    "    tensor = torch.rand((1, 3, 12, 12))\n",
    "    print(tensor.shape)\n",
    "\n",
    "output = conv_layer(tensor)\n",
    "output.shape"
   ]
  },
  {
   "cell_type": "code",
   "execution_count": null,
   "id": "e20a7b6a",
   "metadata": {},
   "outputs": [],
   "source": []
  }
 ],
 "metadata": {
  "kernelspec": {
   "display_name": ".venv",
   "language": "python",
   "name": "python3"
  },
  "language_info": {
   "codemirror_mode": {
    "name": "ipython",
    "version": 3
   },
   "file_extension": ".py",
   "mimetype": "text/x-python",
   "name": "python",
   "nbconvert_exporter": "python",
   "pygments_lexer": "ipython3",
   "version": "3.12.10"
  }
 },
 "nbformat": 4,
 "nbformat_minor": 5
}
