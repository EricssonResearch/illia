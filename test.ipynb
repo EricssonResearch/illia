{
 "cells": [
  {
   "cell_type": "code",
   "execution_count": 1,
   "id": "35646fdd",
   "metadata": {},
   "outputs": [],
   "source": [
    "import os\n",
    "\n",
    "os.environ[\"ILLIA_BACKEND\"] = \"torch\""
   ]
  },
  {
   "cell_type": "code",
   "execution_count": 2,
   "id": "bf92a178",
   "metadata": {},
   "outputs": [],
   "source": [
    "from illia.nn import Conv1D"
   ]
  },
  {
   "cell_type": "code",
   "execution_count": 1,
   "id": "43e23bae",
   "metadata": {},
   "outputs": [
    {
     "name": "stdout",
     "output_type": "stream",
     "text": [
      "Illia backend: torch\n",
      "torch.Size([1, 3, 12, 12])\n"
     ]
    },
    {
     "data": {
      "text/plain": [
       "torch.Size([1, 64, 10, 10])"
      ]
     },
     "execution_count": 1,
     "metadata": {},
     "output_type": "execute_result"
    }
   ],
   "source": [
    "import os\n",
    "\n",
    "os.environ[\"ILLIA_BACKEND\"] = \"torch\"\n",
    "import illia\n",
    "\n",
    "print(f\"Illia backend: {illia.BackendManager.get_backend()}\")\n",
    "from illia.nn import Conv2D\n",
    "\n",
    "conv_layer = Conv2D(\n",
    "    input_channels=3,\n",
    "    output_channels=64,\n",
    "    kernel_size=3,\n",
    ")\n",
    "type(conv_layer)\n",
    "\n",
    "if illia.BackendManager.get_backend() == \"tf\":\n",
    "    import tensorflow as tf\n",
    "\n",
    "    tensor = tf.random.uniform((1, 12, 12, 3))\n",
    "    print(tensor.shape)\n",
    "elif illia.BackendManager.get_backend() == \"torch\":\n",
    "    import torch\n",
    "\n",
    "    tensor = torch.rand((1, 3, 12, 12))\n",
    "    print(tensor.shape)\n",
    "\n",
    "output = conv_layer(tensor)\n",
    "output.shape"
   ]
  },
  {
   "cell_type": "code",
   "execution_count": null,
   "id": "e20a7b6a",
   "metadata": {},
   "outputs": [],
   "source": []
  }
 ],
 "metadata": {
  "kernelspec": {
   "display_name": ".venv",
   "language": "python",
   "name": "python3"
  },
  "language_info": {
   "codemirror_mode": {
    "name": "ipython",
    "version": 3
   },
   "file_extension": ".py",
   "mimetype": "text/x-python",
   "name": "python",
   "nbconvert_exporter": "python",
   "pygments_lexer": "ipython3",
   "version": "3.12.10"
  }
 },
 "nbformat": 4,
 "nbformat_minor": 5
}
