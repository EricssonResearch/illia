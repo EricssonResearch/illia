{
 "cells": [
  {
   "cell_type": "markdown",
   "metadata": {},
   "source": [
    "# Bayesian Losses Module"
   ]
  },
  {
   "cell_type": "markdown",
   "metadata": {},
   "source": [
    "## Libraries"
   ]
  },
  {
   "cell_type": "code",
   "execution_count": null,
   "metadata": {},
   "outputs": [],
   "source": [
    "import os\n",
    "import sys\n",
    "import importlib\n",
    "from abc import abstractmethod\n",
    "from typing import Tuple, Any\n",
    "\n",
    "import numpy as np\n",
    "import torch\n",
    "import tensorflow as tf\n",
    "import matplotlib.pyplot as plt"
   ]
  },
  {
   "cell_type": "markdown",
   "metadata": {},
   "source": [
    "## Functions"
   ]
  },
  {
   "cell_type": "code",
   "execution_count": null,
   "metadata": {},
   "outputs": [],
   "source": [
    "def check_parameters():\n",
    "\n",
    "    print(\"Check the existence of trainable parameters in the classes...\")\n",
    "\n",
    "    torch_list_parameters = list(torch_module.parameters())\n",
    "    assert len(torch_list_parameters) != 0, \"No parameters availables in TorchTestModule\"\n",
    "\n",
    "    trainable_variables = tf_module.trainable_variables\n",
    "    assert len(trainable_variables) != 0, \"No trainable parameters available in TFTestModule\"\n",
    "    \n",
    "    print(\"Test passed!\",'\\n\\n')"
   ]
  },
  {
   "cell_type": "code",
   "execution_count": null,
   "metadata": {},
   "outputs": [],
   "source": [
    "def check_forward_losses():\n",
    "\n",
    "    print(\"Check the forward propagation of the loss functions...\")\n",
    "        \n",
    "    # Input data\n",
    "    input_data = np.random.randn(1, 10).astype(np.float32)\n",
    "    y_true = np.random.randn(1, 10).astype(np.float32)\n",
    "    y_pred = np.random.randn(1, 10).astype(np.float32)\n",
    "\n",
    "    # PyTorch forward pass\n",
    "    torch_input = torch.from_numpy(input_data)\n",
    "    torch_output = torch_module(torch_input)\n",
    "    torch_kl_divengence_output = torch_kl_divengence(torch_module)\n",
    "    torch_elbo_loss_output = torch_elbo_loss(torch.from_numpy(y_true), torch.from_numpy(y_pred), torch_module)\n",
    "\n",
    "    # Tensorflow forward pass\n",
    "    tf_input = tf.convert_to_tensor(input_data)\n",
    "    tf_output = tf_module(tf_input)\n",
    "    tf_kl_divergence_output = tf_kl_divengence(tf_module)\n",
    "    tf_elbo_loss_output = tf_elbo_loss(tf.convert_to_tensor(y_true), tf.convert_to_tensor(y_pred), tf_module)\n",
    "\n",
    "    # Assert that the outputs are similar\n",
    "    print(\"Torch output:\", torch_output)\n",
    "    print(\"TensorFlow output:\", tf_output)\n",
    "    print(\"Outputs are similar:\", np.allclose(torch_output.detach().numpy(), tf_output))\n",
    "\n",
    "    print(\"Torch KL divergence output:\", torch_kl_divengence_output)\n",
    "    print(\"TensorFlow KL divergence output:\", tf_kl_divergence_output)\n",
    "    print(\"KL divergence outputs are similar:\", np.allclose(torch_kl_divengence_output.detach().numpy(), tf_kl_divergence_output))\n",
    "\n",
    "    print(\"Torch ELBO loss output:\", torch_elbo_loss_output)\n",
    "    print(\"TensorFlow ELBO loss output:\", tf_elbo_loss_output)\n",
    "    print(\"ELBO loss outputs are similar:\", np.allclose(torch_elbo_loss_output.detach().numpy(), tf_elbo_loss_output))\n",
    "\n",
    "    print(\"Test passed!\",'\\n\\n')"
   ]
  },
  {
   "cell_type": "code",
   "execution_count": null,
   "metadata": {},
   "outputs": [],
   "source": [
    "def run_all_tests():\n",
    "    \n",
    "    check_parameters()\n",
    "    check_forward_losses()"
   ]
  },
  {
   "cell_type": "markdown",
   "metadata": {},
   "source": [
    "## Illia"
   ]
  },
  {
   "cell_type": "markdown",
   "metadata": {},
   "source": [
    "When the backend is selected we can import illia, if we want to change the backend we need to restart the kernel. The backend can't be changed dynamically."
   ]
  },
  {
   "cell_type": "code",
   "execution_count": 28,
   "metadata": {},
   "outputs": [],
   "source": [
    "from illia.torch.nn.losses import (\n",
    "    KLDivergenceLoss as TorchKLDivergenceLoss, \n",
    "    ELBOLoss as TorchELBOLoss \n",
    ")\n",
    "from illia.torch.nn.linear import Linear as TorchLinear\n",
    "\n",
    "from illia.tf.nn.losses import (\n",
    "    KLDivergenceLoss as TFKLDivergenceLoss, \n",
    "    ELBOLoss as TFELBOLoss\n",
    ")\n",
    "from illia.tf.nn.linear import Linear as TFLinear"
   ]
  },
  {
   "cell_type": "code",
   "execution_count": null,
   "metadata": {},
   "outputs": [],
   "source": [
    "import illia\n",
    "from illia.torch.nn.base import BayesianModule as TorchBayesianModule\n",
    "from illia.tf.nn.base import BayesianModule as TFBayesianModule"
   ]
  },
  {
   "cell_type": "code",
   "execution_count": 29,
   "metadata": {},
   "outputs": [],
   "source": [
    "class TorchTestModule(TorchBayesianModule):\n",
    "\n",
    "    def __init__(self):\n",
    "\n",
    "        super().__init__()\n",
    "\n",
    "        self.linear = TorchLinear(10, 5)\n",
    "\n",
    "    def forward(self, x):\n",
    "\n",
    "        return self.linear(x)\n",
    "\n",
    "    def kl_cost(self):\n",
    "\n",
    "        return torch.tensor(1.0), 1"
   ]
  },
  {
   "cell_type": "code",
   "execution_count": 30,
   "metadata": {},
   "outputs": [],
   "source": [
    "class TFTestModule(TFBayesianModule):\n",
    "\n",
    "    def __init__(self):\n",
    "\n",
    "        super().__init__()\n",
    "\n",
    "        self.linear = TFLinear(10, 5)\n",
    "\n",
    "    def call(self, x):\n",
    "\n",
    "        return self.linear(x)\n",
    "\n",
    "    def kl_cost(self):\n",
    "\n",
    "        return tf.constant(1.0), 1"
   ]
  },
  {
   "cell_type": "markdown",
   "metadata": {},
   "source": [
    "Defining the classes"
   ]
  },
  {
   "cell_type": "code",
   "execution_count": 31,
   "metadata": {},
   "outputs": [],
   "source": [
    "torch_kl_divengence = TorchKLDivergenceLoss()\n",
    "torch_elbo_loss = TorchELBOLoss(loss_function=torch.nn.MSELoss())\n",
    "torch_module = TorchTestModule()"
   ]
  },
  {
   "cell_type": "code",
   "execution_count": 32,
   "metadata": {},
   "outputs": [],
   "source": [
    "tf_kl_divengence = TFKLDivergenceLoss()\n",
    "tf_elbo_loss = TFELBOLoss(loss_function=tf.keras.losses.MeanSquaredError())\n",
    "tf_module = TFTestModule()"
   ]
  },
  {
   "cell_type": "code",
   "execution_count": null,
   "metadata": {},
   "outputs": [],
   "source": [
    "run_all_tests()"
   ]
  }
 ],
 "metadata": {
  "kernelspec": {
   "display_name": "dani",
   "language": "python",
   "name": "python3"
  },
  "language_info": {
   "codemirror_mode": {
    "name": "ipython",
    "version": 3
   },
   "file_extension": ".py",
   "mimetype": "text/x-python",
   "name": "python",
   "nbconvert_exporter": "python",
   "pygments_lexer": "ipython3",
   "version": "3.10.12"
  }
 },
 "nbformat": 4,
 "nbformat_minor": 2
}
