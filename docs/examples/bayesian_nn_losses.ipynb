{
 "cells": [
  {
   "cell_type": "markdown",
   "metadata": {},
   "source": [
    "# Bayesian losses module"
   ]
  },
  {
   "cell_type": "markdown",
   "metadata": {},
   "source": [
    "This tutorial demonstrates the functionality of a Bayesian losses module. It covers basic operations such as checking trainable parameters and forward propagation of loss functions.\n"
   ]
  },
  {
   "cell_type": "markdown",
   "metadata": {},
   "source": [
    "## Libraries"
   ]
  },
  {
   "cell_type": "markdown",
   "metadata": {},
   "source": [
    "To get started, you'll need to import some essential libraries. The specific libraries you use will depend on the backend you've chosen, such as PyTorch, TensorFlow, or Jax. Additionally, you'll need to import NumPy."
   ]
  },
  {
   "cell_type": "code",
   "execution_count": 1,
   "metadata": {},
   "outputs": [],
   "source": [
    "import torch\n",
    "import numpy as np"
   ]
  },
  {
   "cell_type": "markdown",
   "metadata": {},
   "source": [
    "## Functions"
   ]
  },
  {
   "cell_type": "markdown",
   "metadata": {},
   "source": [
    "The ``check_parameters`` function verifies the existence of trainable parameters."
   ]
  },
  {
   "cell_type": "code",
   "execution_count": 2,
   "metadata": {},
   "outputs": [],
   "source": [
    "def check_parameters(torch_module):\n",
    "\n",
    "    print(\"Check the existence of trainable parameters in the classes...\")\n",
    "\n",
    "    torch_list_parameters = list(torch_module.parameters())\n",
    "    assert (\n",
    "        len(torch_list_parameters) != 0\n",
    "    ), \"No parameters availables in TorchTestModule\"\n",
    "\n",
    "    print(\"Test passed!\", \"\\n\\n\")"
   ]
  },
  {
   "cell_type": "markdown",
   "metadata": {},
   "source": [
    "The ``check_forward_losses`` function ensures that the loss functions produce consistent outputs."
   ]
  },
  {
   "cell_type": "code",
   "execution_count": 3,
   "metadata": {},
   "outputs": [],
   "source": [
    "def check_forward_losses(torch_module, torch_kl_divengence, torch_elbo_loss):\n",
    "\n",
    "    print(\"Check the forward propagation of the loss functions...\")\n",
    "\n",
    "    # Input data\n",
    "    input_data = np.random.randn(1, 10).astype(np.float32)\n",
    "    y_true = np.random.randn(1, 10).astype(np.float32)\n",
    "    y_pred = np.random.randn(1, 10).astype(np.float32)\n",
    "\n",
    "    # PyTorch forward pass\n",
    "    torch_input = torch.from_numpy(input_data)\n",
    "    torch_output = torch_module(torch_input)\n",
    "    torch_kl_divengence_output = torch_kl_divengence(torch_module)\n",
    "    torch_elbo_loss_output = torch_elbo_loss(\n",
    "        torch.from_numpy(y_true), torch.from_numpy(y_pred), torch_module\n",
    "    )\n",
    "\n",
    "    # Assert that the outputs are similar\n",
    "    print(\"Torch output:\", torch_output)\n",
    "\n",
    "    print(\"Torch KL divergence output:\", torch_kl_divengence_output)\n",
    "\n",
    "    print(\"Torch ELBO loss output:\", torch_elbo_loss_output)\n",
    "\n",
    "    print(\"Test passed!\", \"\\n\\n\")"
   ]
  },
  {
   "cell_type": "markdown",
   "metadata": {},
   "source": [
    "The ``run_all_tests`` function executes all test functions in sequence to validate the module's functionality."
   ]
  },
  {
   "cell_type": "code",
   "execution_count": 4,
   "metadata": {},
   "outputs": [],
   "source": [
    "def run_all_tests(torch_module, torch_kl_divengence, torch_elbo_loss):\n",
    "\n",
    "    check_parameters(torch_module)\n",
    "    check_forward_losses(torch_module, torch_kl_divengence, torch_elbo_loss)"
   ]
  },
  {
   "cell_type": "markdown",
   "metadata": {},
   "source": [
    "## Illia"
   ]
  },
  {
   "cell_type": "markdown",
   "metadata": {},
   "source": [
    "When setting the backend, we import the Illia library, which provides Bayesian module implementations. Note that backend selection requires a kernel restart and cannot be changed dynamically."
   ]
  },
  {
   "cell_type": "code",
   "execution_count": null,
   "metadata": {},
   "outputs": [],
   "source": [
    "import sys\n",
    "import os\n",
    "\n",
    "sys.path.append(\"/home/dani/Repositorios/illia/\")\n",
    "os.environ[\"ILLIA_BACKEND\"] = \"torch\"\n",
    "\n",
    "from illia.nn import BayesianModule, Linear\n",
    "from illia.losses import KLDivergenceLoss, ELBOLoss"
   ]
  },
  {
   "cell_type": "markdown",
   "metadata": {},
   "source": [
    "## Class definitions"
   ]
  },
  {
   "cell_type": "markdown",
   "metadata": {},
   "source": [
    "Define test classes implementing a simple linear layer and a method to compute KL divergence. These classes will be used in the tests."
   ]
  },
  {
   "cell_type": "code",
   "execution_count": 6,
   "metadata": {},
   "outputs": [],
   "source": [
    "class TorchTestModule(BayesianModule):\n",
    "\n",
    "    def __init__(self):\n",
    "\n",
    "        super().__init__()\n",
    "\n",
    "        self.linear = Linear(10, 5)\n",
    "\n",
    "    def forward(self, x):\n",
    "\n",
    "        return self.linear(x)\n",
    "\n",
    "    def kl_cost(self):\n",
    "\n",
    "        return torch.tensor(1.0), 1\n",
    "\n",
    "\n",
    "# PyTorch\n",
    "torch_kl_divengence = KLDivergenceLoss()\n",
    "torch_elbo_loss = ELBOLoss(loss_function=torch.nn.MSELoss())\n",
    "torch_module = TorchTestModule()"
   ]
  },
  {
   "cell_type": "markdown",
   "metadata": {},
   "source": [
    "Finally, run all tests to ensure that the module's functionalities work as expected across backends."
   ]
  },
  {
   "cell_type": "code",
   "execution_count": 7,
   "metadata": {},
   "outputs": [
    {
     "name": "stdout",
     "output_type": "stream",
     "text": [
      "Check the existence of trainable parameters in the classes...\n",
      "Test passed! \n",
      "\n",
      "\n",
      "Check the forward propagation of the loss functions...\n",
      "Torch output: tensor([[-0.3599,  0.1619, -0.0092,  0.4080,  0.4452]],\n",
      "       grad_fn=<AddmmBackward0>)\n",
      "Torch KL divergence output: tensor(4.7174, grad_fn=<MulBackward0>)\n",
      "Torch ELBO loss output: tensor(1.4076, grad_fn=<DivBackward0>)\n",
      "Test passed! \n",
      "\n",
      "\n"
     ]
    }
   ],
   "source": [
    "run_all_tests(torch_module, torch_kl_divengence, torch_elbo_loss)"
   ]
  },
  {
   "cell_type": "code",
   "execution_count": null,
   "metadata": {},
   "outputs": [],
   "source": []
  }
 ],
 "metadata": {
  "kernelspec": {
   "display_name": "illia",
   "language": "python",
   "name": "python3"
  },
  "language_info": {
   "codemirror_mode": {
    "name": "ipython",
    "version": 3
   },
   "file_extension": ".py",
   "mimetype": "text/x-python",
   "name": "python",
   "nbconvert_exporter": "python",
   "pygments_lexer": "ipython3",
   "version": "3.12.11"
  }
 },
 "nbformat": 4,
 "nbformat_minor": 2
}
