{
 "cells": [
  {
   "cell_type": "markdown",
   "metadata": {},
   "source": [
    "# Distributions"
   ]
  },
  {
   "cell_type": "markdown",
   "metadata": {},
   "source": [
    "This tutorial demonstrates the functionality of the distributions module. It covers operations like sampling from distributions, calculating log probabilities, and checking the number of parameters."
   ]
  },
  {
   "cell_type": "markdown",
   "metadata": {},
   "source": [
    "## Libraries"
   ]
  },
  {
   "cell_type": "markdown",
   "metadata": {},
   "source": [
    "To get started, you'll need to import some essential libraries. The specific libraries you use will depend on the backend you've chosen, such as PyTorch, TensorFlow, or Jax. Additionally, you'll need to import NumPy."
   ]
  },
  {
   "cell_type": "code",
   "execution_count": 1,
   "metadata": {},
   "outputs": [],
   "source": [
    "import torch\n",
    "import numpy as np"
   ]
  },
  {
   "cell_type": "markdown",
   "metadata": {},
   "source": [
    "## Functions"
   ]
  },
  {
   "cell_type": "markdown",
   "metadata": {},
   "source": [
    "The ``compare_tensors`` function checks whether two tensors are close in value, given a relative and absolute tolerance. It prints the maximum absolute difference between the tensors and returns whether they are close."
   ]
  },
  {
   "cell_type": "code",
   "execution_count": 2,
   "metadata": {},
   "outputs": [],
   "source": [
    "def compare_tensors(a, b, rtol=1e-1, atol=1e-1, name=\"\"):\n",
    "    are_close = np.allclose(a, b, rtol=rtol, atol=atol)\n",
    "    max_diff = np.max(np.abs(a - b))\n",
    "    print(f\"{name} are close: {are_close}\")\n",
    "    print(f\"Max absolute difference for {name}: {max_diff}\")\n",
    "    return are_close"
   ]
  },
  {
   "cell_type": "markdown",
   "metadata": {},
   "source": [
    "## Random seeds"
   ]
  },
  {
   "cell_type": "markdown",
   "metadata": {},
   "source": [
    "Set random seeds for reproducibility. This ensures that the results are consistent each time the code is executed."
   ]
  },
  {
   "cell_type": "code",
   "execution_count": 3,
   "metadata": {},
   "outputs": [
    {
     "data": {
      "text/plain": [
       "<torch._C.Generator at 0x7661a4b6de90>"
      ]
     },
     "execution_count": 3,
     "metadata": {},
     "output_type": "execute_result"
    }
   ],
   "source": [
    "np.random.seed(0)\n",
    "torch.manual_seed(0)"
   ]
  },
  {
   "cell_type": "markdown",
   "metadata": {},
   "source": [
    "## Illia"
   ]
  },
  {
   "cell_type": "markdown",
   "metadata": {},
   "source": [
    "When setting the backend, we import the Illia library, which provides Bayesian module implementations. Note that backend selection requires a kernel restart and cannot be changed dynamically."
   ]
  },
  {
   "cell_type": "code",
   "execution_count": 4,
   "metadata": {},
   "outputs": [
    {
     "name": "stdout",
     "output_type": "stream",
     "text": [
      "Version: 0.2.0, Backend: torch\n"
     ]
    }
   ],
   "source": [
    "import sys\n",
    "import os\n",
    "\n",
    "sys.path.append(\"/home/dani/Repositorios/illia/\")\n",
    "os.environ[\"ILLIA_BACKEND\"] = \"torch\"\n",
    "\n",
    "import illia\n",
    "\n",
    "# Display available backends\n",
    "print(f\"Version: {illia.__version__}, Backend: {illia.__get_backend__}\")"
   ]
  },
  {
   "cell_type": "markdown",
   "metadata": {},
   "source": [
    "## Test parameters and utilities"
   ]
  },
  {
   "cell_type": "markdown",
   "metadata": {},
   "source": [
    "Define parameters and utilities that will be used in the tests."
   ]
  },
  {
   "cell_type": "code",
   "execution_count": 5,
   "metadata": {},
   "outputs": [],
   "source": [
    "shape = (3, 2)  # Shape of the distribution\n",
    "mu_init = 0.0  # Initial mean\n",
    "rho_init = -7.0  # Initial rho"
   ]
  },
  {
   "cell_type": "markdown",
   "metadata": {},
   "source": [
    "## Initialize class distributions"
   ]
  },
  {
   "cell_type": "markdown",
   "metadata": {},
   "source": [
    "Import and initialize Gaussian distribution classes for the various frameworks."
   ]
  },
  {
   "cell_type": "code",
   "execution_count": 6,
   "metadata": {},
   "outputs": [],
   "source": [
    "from illia.distributions import GaussianDistribution\n",
    "\n",
    "# PyTorch\n",
    "torch_dynamic_dist = GaussianDistribution(\n",
    "    shape=shape, mu_init=mu_init, rho_init=rho_init\n",
    ")"
   ]
  },
  {
   "cell_type": "markdown",
   "metadata": {},
   "source": [
    "## Sampling"
   ]
  },
  {
   "cell_type": "markdown",
   "metadata": {},
   "source": [
    "Sample from the distributions and compare the means and standard deviations."
   ]
  },
  {
   "cell_type": "code",
   "execution_count": 7,
   "metadata": {},
   "outputs": [
    {
     "name": "stdout",
     "output_type": "stream",
     "text": [
      "Test 1: Sampling\n",
      "[[ 0.04033715  0.08378547]\n",
      " [-0.07190923 -0.04033187]\n",
      " [-0.05966421  0.01821103]]\n",
      "[[0.00082605 0.00077829]\n",
      " [0.0009529  0.00105996]\n",
      " [0.00100908 0.00098696]]\n"
     ]
    }
   ],
   "source": [
    "print(\"Test 1: Sampling\")\n",
    "\n",
    "n_samples = 10000  # Number of samples\n",
    "torch_samples = np.array(\n",
    "    [torch_dynamic_dist.sample().detach().cpu().numpy() for _ in range(n_samples)]\n",
    ")\n",
    "\n",
    "# Compare means\n",
    "torch_mean = np.mean(torch_samples, axis=0)\n",
    "print(torch_mean)\n",
    "\n",
    "# Compare standard deviations\n",
    "torch_std = np.std(torch_samples, axis=0)\n",
    "print(torch_std)"
   ]
  },
  {
   "cell_type": "markdown",
   "metadata": {},
   "source": [
    "## Log probabilities"
   ]
  },
  {
   "cell_type": "markdown",
   "metadata": {},
   "source": [
    "Calculate and compare the log probabilities of a sample for both distributions."
   ]
  },
  {
   "cell_type": "code",
   "execution_count": 8,
   "metadata": {},
   "outputs": [
    {
     "name": "stdout",
     "output_type": "stream",
     "text": [
      "\n",
      "Test 2: Log probability\n",
      "-7539210.5\n"
     ]
    }
   ],
   "source": [
    "print(\"\\nTest 2: Log probability\")\n",
    "\n",
    "x = np.random.randn(*shape).astype(np.float32)\n",
    "torch_log_prob = (\n",
    "    torch_dynamic_dist.log_prob(torch.tensor(x, dtype=torch.float32))\n",
    "    .detach()\n",
    "    .cpu()\n",
    "    .numpy()\n",
    ")\n",
    "print(torch_log_prob)"
   ]
  },
  {
   "cell_type": "markdown",
   "metadata": {},
   "source": [
    "## Number of parameters"
   ]
  },
  {
   "cell_type": "markdown",
   "metadata": {},
   "source": [
    "Check the number of parameters in both distributions to ensure they match."
   ]
  },
  {
   "cell_type": "code",
   "execution_count": 9,
   "metadata": {},
   "outputs": [
    {
     "name": "stdout",
     "output_type": "stream",
     "text": [
      "\n",
      "Test 3: Number of parameters\n",
      "PyTorch num params: 6\n"
     ]
    }
   ],
   "source": [
    "print(\"\\nTest 3: Number of parameters\")\n",
    "print(\"PyTorch num params:\", torch_dynamic_dist.num_params())"
   ]
  },
  {
   "cell_type": "code",
   "execution_count": null,
   "metadata": {},
   "outputs": [],
   "source": []
  }
 ],
 "metadata": {
  "kernelspec": {
   "display_name": "illia",
   "language": "python",
   "name": "python3"
  },
  "language_info": {
   "codemirror_mode": {
    "name": "ipython",
    "version": 3
   },
   "file_extension": ".py",
   "mimetype": "text/x-python",
   "name": "python",
   "nbconvert_exporter": "python",
   "pygments_lexer": "ipython3",
   "version": "3.10.12"
  }
 },
 "nbformat": 4,
 "nbformat_minor": 2
}
