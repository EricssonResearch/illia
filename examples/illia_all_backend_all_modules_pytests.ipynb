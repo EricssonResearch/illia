{
 "cells": [
  {
   "cell_type": "markdown",
   "metadata": {},
   "source": [
    "# DISTRIBUTIONS TEST"
   ]
  },
  {
   "cell_type": "markdown",
   "metadata": {},
   "source": [
    "## import packages"
   ]
  },
  {
   "cell_type": "code",
   "execution_count": 1,
   "metadata": {},
   "outputs": [],
   "source": [
    "import os\n",
    "import sys\n",
    "from scipy import stats\n",
    "import matplotlib.pyplot as plt"
   ]
  },
  {
   "cell_type": "markdown",
   "metadata": {},
   "source": [
    "## take care of paths"
   ]
  },
  {
   "cell_type": "code",
   "execution_count": 2,
   "metadata": {},
   "outputs": [
    {
     "name": "stdout",
     "output_type": "stream",
     "text": [
      "Current working directory :/home/jovyan\n"
     ]
    }
   ],
   "source": [
    "print(f\"Current working directory :{os.getcwd()}\")"
   ]
  },
  {
   "cell_type": "code",
   "execution_count": 3,
   "metadata": {},
   "outputs": [
    {
     "name": "stdout",
     "output_type": "stream",
     "text": [
      "Current sys path :['/home/jovyan', '/home/jovyan/illia/examples', '/opt/conda/lib/python38.zip', '/opt/conda/lib/python3.8', '/opt/conda/lib/python3.8/lib-dynload', '', '/home/jovyan/pdcch_proj/lib/python3.8/site-packages']\n"
     ]
    }
   ],
   "source": [
    "print(f\"Current sys path :{sys.path}\")"
   ]
  },
  {
   "cell_type": "code",
   "execution_count": 4,
   "metadata": {},
   "outputs": [],
   "source": [
    "expected_path= '/home/jovyan/illia/'"
   ]
  },
  {
   "cell_type": "code",
   "execution_count": 5,
   "metadata": {},
   "outputs": [],
   "source": [
    "if not os.path.exists(expected_path):\n",
    "    raise Exception(\"Please ensure correct path\")"
   ]
  },
  {
   "cell_type": "code",
   "execution_count": 6,
   "metadata": {},
   "outputs": [
    {
     "name": "stdout",
     "output_type": "stream",
     "text": [
      "Changed working directory to :/home/jovyan/illia/examples\n"
     ]
    }
   ],
   "source": [
    "os.chdir(os.path.join(expected_path,'examples'))\n",
    "print(f\"Changed working directory to :{os.getcwd()}\")"
   ]
  },
  {
   "cell_type": "code",
   "execution_count": 7,
   "metadata": {},
   "outputs": [
    {
     "name": "stdout",
     "output_type": "stream",
     "text": [
      "Added {expected_path} to sys.path\n"
     ]
    }
   ],
   "source": [
    "if expected_path not in sys.path:\n",
    "    sys.path.insert(0, expected_path)\n",
    "    print(\"Added {expected_path} to sys.path\")"
   ]
  },
  {
   "cell_type": "code",
   "execution_count": 8,
   "metadata": {},
   "outputs": [
    {
     "name": "stdout",
     "output_type": "stream",
     "text": [
      "Updated sys.path : ['/home/jovyan/illia/', '/home/jovyan', '/home/jovyan/illia/examples', '/opt/conda/lib/python38.zip', '/opt/conda/lib/python3.8', '/opt/conda/lib/python3.8/lib-dynload', '', '/home/jovyan/pdcch_proj/lib/python3.8/site-packages']\n"
     ]
    }
   ],
   "source": [
    "print(f\"Updated sys.path : {sys.path}\")"
   ]
  },
  {
   "cell_type": "code",
   "execution_count": 9,
   "metadata": {},
   "outputs": [
    {
     "name": "stderr",
     "output_type": "stream",
     "text": [
      "2024-10-17 07:50:24.008703: I tensorflow/core/util/port.cc:110] oneDNN custom operations are on. You may see slightly different numerical results due to floating-point round-off errors from different computation orders. To turn them off, set the environment variable `TF_ENABLE_ONEDNN_OPTS=0`.\n",
      "2024-10-17 07:50:24.041096: I tensorflow/core/platform/cpu_feature_guard.cc:182] This TensorFlow binary is optimized to use available CPU instructions in performance-critical operations.\n",
      "To enable the following instructions: AVX2 AVX512F AVX512_VNNI FMA, in other operations, rebuild TensorFlow with the appropriate compiler flags.\n"
     ]
    }
   ],
   "source": [
    "# Import necessary libraries\n",
    "import numpy as np\n",
    "import torch\n",
    "import tensorflow as tf\n",
    "from illia.distributions.gaussian import GaussianDistribution as BackendAgnosticGaussian"
   ]
  },
  {
   "cell_type": "markdown",
   "metadata": {},
   "source": [
    "## set random seed"
   ]
  },
  {
   "cell_type": "code",
   "execution_count": 10,
   "metadata": {},
   "outputs": [],
   "source": [
    "# Set random seeds for reproducibility\n",
    "np.random.seed(0)\n",
    "torch.manual_seed(0)\n",
    "tf.random.set_seed(0)\n"
   ]
  },
  {
   "cell_type": "markdown",
   "metadata": {},
   "source": [
    "## include test params"
   ]
  },
  {
   "cell_type": "code",
   "execution_count": 11,
   "metadata": {},
   "outputs": [],
   "source": [
    "# Test parameters\n",
    "shape = (3, 2)\n",
    "mu_prior = 0.0\n",
    "std_prior = 0.1\n",
    "mu_init = 0.0\n",
    "rho_init = -7.0"
   ]
  },
  {
   "cell_type": "code",
   "execution_count": 12,
   "metadata": {},
   "outputs": [],
   "source": [
    "def compare_tensors(a, b, rtol=1e-1, atol=1e-1, name=\"\"):\n",
    "    are_close = np.allclose(a, b, rtol=rtol, atol=atol)\n",
    "    max_diff = np.max(np.abs(a - b))\n",
    "    print(f\"{name} are close: {are_close}\")\n",
    "    print(f\"Max absolute difference for {name}: {max_diff}\")\n",
    "    return are_close"
   ]
  },
  {
   "cell_type": "markdown",
   "metadata": {},
   "source": [
    "## initialize class"
   ]
  },
  {
   "cell_type": "code",
   "execution_count": 13,
   "metadata": {},
   "outputs": [],
   "source": [
    "# Initialize distributions\n",
    "torch_dist = BackendAgnosticGaussian(shape, mu_prior, std_prior, mu_init, rho_init, backend=\"torch\")\n",
    "tf_dist = BackendAgnosticGaussian(shape, mu_prior, std_prior, mu_init, rho_init, backend=\"tf\")"
   ]
  },
  {
   "cell_type": "code",
   "execution_count": 14,
   "metadata": {},
   "outputs": [],
   "source": [
    "# jax_dist = BackendAgnosticGaussian(shape, mu_prior, std_prior, mu_init, rho_init, backend=\"jax\") ##appropriate error"
   ]
  },
  {
   "cell_type": "markdown",
   "metadata": {},
   "source": [
    "## test 1 : sampling"
   ]
  },
  {
   "cell_type": "code",
   "execution_count": 15,
   "metadata": {},
   "outputs": [
    {
     "name": "stdout",
     "output_type": "stream",
     "text": [
      "Test 1: Sampling\n",
      "Means are close: True\n",
      "Max absolute difference for Means: 0.1107715591788292\n",
      "Standard deviations are close: True\n",
      "Max absolute difference for Standard deviations: 0.0001888646511361003\n"
     ]
    },
    {
     "data": {
      "text/plain": [
       "True"
      ]
     },
     "execution_count": 15,
     "metadata": {},
     "output_type": "execute_result"
    }
   ],
   "source": [
    "# Test 1: Sampling\n",
    "print(\"Test 1: Sampling\")\n",
    "n_samples = 10000\n",
    "torch_samples = np.array([torch_dist.sample().detach().cpu().numpy() for _ in range(n_samples)])\n",
    "tf_samples = np.array([tf_dist.sample().numpy() for _ in range(n_samples)])\n",
    "\n",
    "# Compare means\n",
    "torch_mean = np.mean(torch_samples, axis=0)\n",
    "tf_mean = np.mean(tf_samples, axis=0)\n",
    "compare_tensors(torch_mean, tf_mean, name=\"Means\")\n",
    "\n",
    "# Compare standard deviations\n",
    "torch_std = np.std(torch_samples, axis=0)\n",
    "tf_std = np.std(tf_samples, axis=0)\n",
    "compare_tensors(torch_std, tf_std, name=\"Standard deviations\")"
   ]
  },
  {
   "cell_type": "markdown",
   "metadata": {},
   "source": [
    "## test 2: log probs"
   ]
  },
  {
   "cell_type": "code",
   "execution_count": 16,
   "metadata": {},
   "outputs": [
    {
     "name": "stdout",
     "output_type": "stream",
     "text": [
      "\n",
      "Test 2: Log probability\n",
      "Log probabilities are close: False\n",
      "Max absolute difference for Log probabilities: 975876.5\n"
     ]
    },
    {
     "data": {
      "text/plain": [
       "False"
      ]
     },
     "execution_count": 16,
     "metadata": {},
     "output_type": "execute_result"
    }
   ],
   "source": [
    "# Test 2: Log probability\n",
    "print(\"\\nTest 2: Log probability\")\n",
    "x = np.random.randn(*shape).astype(np.float32)\n",
    "torch_log_prob = torch_dist.log_prob(torch.tensor(x, dtype=torch.float32)).detach().cpu().numpy()\n",
    "tf_log_prob = tf_dist.log_prob(tf.constant(x, dtype=tf.float32)).numpy()\n",
    "compare_tensors(torch_log_prob, tf_log_prob, rtol=1e-1, atol=1e-1, name=\"Log probabilities\")\n"
   ]
  },
  {
   "cell_type": "markdown",
   "metadata": {},
   "source": [
    "## test 3 : num of params"
   ]
  },
  {
   "cell_type": "code",
   "execution_count": 17,
   "metadata": {},
   "outputs": [
    {
     "name": "stdout",
     "output_type": "stream",
     "text": [
      "\n",
      "Test 3: Number of parameters\n",
      "PyTorch num params: 6\n",
      "TensorFlow num params: 6\n",
      "Num params are equal: True\n"
     ]
    }
   ],
   "source": [
    "\n",
    "# Test 3: Number of parameters\n",
    "print(\"\\nTest 3: Number of parameters\")\n",
    "print(\"PyTorch num params:\", torch_dist.num_params)\n",
    "print(\"TensorFlow num params:\", tf_dist.num_params)\n",
    "print(\"Num params are equal:\", torch_dist.num_params == tf_dist.num_params)"
   ]
  },
  {
   "cell_type": "markdown",
   "metadata": {},
   "source": [
    "## Prove visually as well if implementations are correct or not"
   ]
  },
  {
   "cell_type": "code",
   "execution_count": 18,
   "metadata": {},
   "outputs": [
    {
     "data": {
      "image/png": "[encoded data removed]",
      "text/plain": [
       "<Figure size 1200x400 with 2 Axes>"
      ]
     },
     "metadata": {},
     "output_type": "display_data"
    }
   ],
   "source": [
    "plt.figure(figsize=(12, 4))\n",
    "\n",
    "plt.subplot(121)\n",
    "plt.hist(torch_samples.flatten(), bins=50, alpha=0.5, label='PyTorch')\n",
    "plt.hist(tf_samples.flatten(), bins=50, alpha=0.5, label='TensorFlow')\n",
    "plt.legend()\n",
    "plt.xlabel(\"values\")\n",
    "plt.ylabel(\"frequency\")\n",
    "plt.title(\"Distribution of Samples\")\n",
    "\n",
    "plt.subplot(122)\n",
    "plt.scatter(torch_samples.flatten()[:1000], tf_samples.flatten()[:1000], alpha=0.1)\n",
    "plt.plot([-3, 3], [-3, 3], 'r--')\n",
    "plt.xlabel(\"PyTorch Samples\")\n",
    "plt.ylabel(\"TensorFlow Samples\")\n",
    "plt.title(\"PyTorch vs TensorFlow Samples\")\n",
    "\n",
    "plt.tight_layout()\n",
    "plt.show()\n",
    "\n"
   ]
  },
  {
   "cell_type": "markdown",
   "metadata": {},
   "source": [
    "# nn-base.py or Bayesian Module TEST"
   ]
  },
  {
   "cell_type": "markdown",
   "metadata": {},
   "source": [
    "## import packages"
   ]
  },
  {
   "cell_type": "code",
   "execution_count": 28,
   "metadata": {},
   "outputs": [],
   "source": [
    "from illia.nn.torch.base import BayesianModule as TorchBayesianModule\n",
    "from illia.nn.tf.base import BayesianModule as TFBayesianModule"
   ]
  },
  {
   "cell_type": "markdown",
   "metadata": {},
   "source": [
    "## class definitions - forward method to test"
   ]
  },
  {
   "cell_type": "code",
   "execution_count": 29,
   "metadata": {},
   "outputs": [],
   "source": [
    "\n",
    "class TorchTestModule(TorchBayesianModule):\n",
    "    def __init__(self):\n",
    "        super().__init__()\n",
    "        self.linear = torch.nn.Linear(10, 5)\n",
    "\n",
    "    def forward(self, x):\n",
    "        return self.linear(x)\n",
    "\n",
    "    def kl_cost(self):\n",
    "        return torch.tensor(1.0), 1"
   ]
  },
  {
   "cell_type": "code",
   "execution_count": 30,
   "metadata": {},
   "outputs": [],
   "source": [
    "class TFTestModule(TFBayesianModule):\n",
    "    def __init__(self):\n",
    "        super().__init__()\n",
    "        self.linear = tf.keras.layers.Dense(5)\n",
    "\n",
    "    def call(self, x):\n",
    "        return self.linear(x)\n",
    "\n",
    "    def kl_cost(self):\n",
    "        return tf.constant(1.0), 1"
   ]
  },
  {
   "cell_type": "markdown",
   "metadata": {},
   "source": [
    "## initialize modules"
   ]
  },
  {
   "cell_type": "code",
   "execution_count": 31,
   "metadata": {},
   "outputs": [],
   "source": [
    "torch_module=TorchTestModule()\n",
    "\n",
    "tf_module=TFTestModule()"
   ]
  },
  {
   "cell_type": "markdown",
   "metadata": {},
   "source": [
    "## test 1 : freeze and unfreeze"
   ]
  },
  {
   "cell_type": "code",
   "execution_count": 32,
   "metadata": {},
   "outputs": [],
   "source": [
    "# Test freeze and unfreeze\n",
    "def test_freeze_unfreeze():\n",
    "    print(\"Testing freeze and unfreeze...\")\n",
    "    \n",
    "    # Test PyTorch module\n",
    "    assert not torch_module.frozen, \"PyTorch module should not be frozen initially\"\n",
    "    torch_module.freeze()\n",
    "    assert torch_module.frozen, \"PyTorch module should be frozen after freeze()\"\n",
    "    torch_module.unfreeze()\n",
    "    assert not torch_module.frozen, \"PyTorch module should not be frozen after unfreeze()\"\n",
    "\n",
    "    # Test TensorFlow module\n",
    "    assert not tf_module.frozen, \"TensorFlow module should not be frozen initially\"\n",
    "    tf_module.freeze()\n",
    "    assert tf_module.frozen, \"TensorFlow module should be frozen after freeze()\"\n",
    "    tf_module.unfreeze()\n",
    "    assert not tf_module.frozen, \"TensorFlow module should not be frozen after unfreeze()\"\n",
    "    \n",
    "    print(\"Freeze and unfreeze test passed!\",'\\n\\n')"
   ]
  },
  {
   "cell_type": "markdown",
   "metadata": {},
   "source": [
    "## test2 : test kl cost"
   ]
  },
  {
   "cell_type": "code",
   "execution_count": 33,
   "metadata": {},
   "outputs": [],
   "source": [
    "def test_kl_cost():\n",
    "    print(\"Testing kl_cost...\")\n",
    "    \n",
    "    torch_kl, torch_n = torch_module.kl_cost()\n",
    "    tf_kl, tf_n = tf_module.kl_cost()\n",
    "    print(f'PyTorch : {torch_kl.item()}, {torch_n}\\n')\n",
    "    print(f'TensorFlow : {tf_kl.numpy()}, {tf_n}\\n')\n",
    "    \n",
    "\n",
    "    assert torch_kl.item() == tf_kl.numpy(), f\"KL divergence mismatch: PyTorch {torch_kl.item()}, TensorFlow {tf_kl.numpy()}\"\n",
    "    assert torch_n == tf_n, f\"N mismatch: PyTorch {torch_n}, TensorFlow {tf_n}\"\n",
    "    \n",
    "    print(\"KL cost test passed!\",'\\n\\n')"
   ]
  },
  {
   "cell_type": "markdown",
   "metadata": {},
   "source": [
    "## test 3 :Test forward pass"
   ]
  },
  {
   "cell_type": "code",
   "execution_count": 34,
   "metadata": {},
   "outputs": [],
   "source": [
    "def test_forward_pass():\n",
    "    print(\"Testing forward pass...\")\n",
    "    \n",
    "    # random seed for reproducibility\n",
    "    np.random.seed(42)\n",
    "    torch.manual_seed(42)\n",
    "    tf.random.set_seed(42)\n",
    "    \n",
    "    # input data\n",
    "    input_data = np.random.randn(1, 10).astype(np.float32)\n",
    "    \n",
    "    # PyTorch forward pass\n",
    "    torch_input = torch.from_numpy(input_data)\n",
    "    torch_output = torch_module(torch_input)\n",
    "\n",
    "    # TensorFlow forward pass\n",
    "    tf_input = tf.convert_to_tensor(input_data)\n",
    "    tf_output = tf_module(tf_input)\n",
    "\n",
    "    # Compare outputs\n",
    "    torch_np = torch_output.detach().numpy()\n",
    "    tf_np = tf_output.numpy()\n",
    "    \n",
    "    max_diff = np.max(np.abs(torch_np - tf_np))\n",
    "    print(f\"Maximum absolute difference: {max_diff}\")\n",
    "    \n",
    "    if max_diff > 1e-1:\n",
    "        print(\"Warning-Ignore for now: Outputs differ slighlty,this might be due to different initialization or computational differences between PyTorch and TensorFlow for torch.nn.Linear && tf.keras.layers.Dense \")\n",
    "        print(\"PyTorch output:\", torch_np)\n",
    "        print(\"TensorFlow output:\", tf_np)\n",
    "    else:\n",
    "        print(\"Outputs are close enough.\")\n",
    "\n",
    "    # Use a more lenient comparison\n",
    "    np.testing.assert_allclose(torch_np, tf_np, rtol=1, atol=1)\n",
    "    \n",
    "    print(\"Forward pass test passed!\",'\\n\\n')"
   ]
  },
  {
   "cell_type": "markdown",
   "metadata": {},
   "source": [
    "## run all test "
   ]
  },
  {
   "cell_type": "code",
   "execution_count": 35,
   "metadata": {},
   "outputs": [],
   "source": [
    "def run_all_tests():\n",
    "    test_freeze_unfreeze()\n",
    "    test_kl_cost()\n",
    "    test_forward_pass()"
   ]
  },
  {
   "cell_type": "code",
   "execution_count": 36,
   "metadata": {},
   "outputs": [
    {
     "name": "stdout",
     "output_type": "stream",
     "text": [
      "Testing freeze and unfreeze...\n",
      "Freeze and unfreeze test passed! \n",
      "\n",
      "\n",
      "Testing kl_cost...\n",
      "PyTorch : 1.0, 1\n",
      "\n",
      "TensorFlow : 1.0, 1\n",
      "\n",
      "KL cost test passed! \n",
      "\n",
      "\n",
      "Testing forward pass...\n",
      "Maximum absolute difference: 0.7323223352432251\n",
      "Warning: Outputs differ more than expected. This might be due to different initialization or computational differences between PyTorch and TensorFlow for torch.nn.Linear && tf.keras.layers.Dense \n",
      "PyTorch output: [[-0.19086355  0.7313502  -0.45131156  0.858611    0.80264837]]\n",
      "TensorFlow output: [[ 0.03816783  0.4632151  -0.41756552  0.2205362   0.07032601]]\n",
      "Forward pass test passed! \n",
      "\n",
      "\n"
     ]
    }
   ],
   "source": [
    "# Run the tests\n",
    "run_all_tests()"
   ]
  },
  {
   "cell_type": "markdown",
   "metadata": {},
   "source": [
    "# nn-losses.py or Bayesian Module TEST"
   ]
  },
  {
   "cell_type": "code",
   "execution_count": null,
   "metadata": {},
   "outputs": [],
   "source": []
  }
 ],
 "metadata": {
  "kernelspec": {
   "display_name": "pdcch_proj",
   "language": "python",
   "name": "python3"
  },
  "language_info": {
   "codemirror_mode": {
    "name": "ipython",
    "version": 3
   },
   "file_extension": ".py",
   "mimetype": "text/x-python",
   "name": "python",
   "nbconvert_exporter": "python",
   "pygments_lexer": "ipython3",
   "version": "3.8.10"
  }
 },
 "nbformat": 4,
 "nbformat_minor": 2
}
